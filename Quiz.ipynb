{
 "cells": [
  {
   "cell_type": "code",
   "execution_count": 1,
   "id": "2266420f-4dcb-4bb8-a369-86e69c5e0b96",
   "metadata": {},
   "outputs": [
    {
     "name": "stdout",
     "output_type": "stream",
     "text": [
      "[[ 0.69341163  0.11289821  1.18254457]\n",
      " [ 0.0273504  -0.00900781 -0.01570518]\n",
      " [ 0.47947104  0.08721922 -0.74955742]]\n"
     ]
    }
   ],
   "source": [
    "import numpy as np\n",
    "a=np.random.randn(3,3)\n",
    "b=np.random.randn(3,1)\n",
    "c=a*b\n",
    "print(c)"
   ]
  },
  {
   "cell_type": "code",
   "execution_count": 3,
   "id": "55b788de-3210-4c02-8a67-97694aca13f7",
   "metadata": {},
   "outputs": [
    {
     "name": "stdout",
     "output_type": "stream",
     "text": [
      "[[4 1]\n",
      " [1 9]]\n",
      "[[ 5  5]\n",
      " [ 5 10]]\n"
     ]
    }
   ],
   "source": [
    "a=np.array([[2,1],[1,3]])\n",
    "print((a*a))\n",
    "c=np.dot(a,a)\n",
    "print(c)"
   ]
  },
  {
   "cell_type": "code",
   "execution_count": 4,
   "id": "57f7c3fd-dade-496d-baca-9c8c8bbc4512",
   "metadata": {},
   "outputs": [
    {
     "name": "stdout",
     "output_type": "stream",
     "text": [
      "[[3 3]\n",
      " [4 2]]\n"
     ]
    }
   ],
   "source": [
    "a=np.array([[1,1],[1,-1]])\n",
    "b=np.array([[2],[3]])\n",
    "c=a+b\n",
    "print(c)"
   ]
  },
  {
   "cell_type": "code",
   "execution_count": 5,
   "id": "aad89763-dece-4354-8034-0d8b0d48d943",
   "metadata": {},
   "outputs": [
    {
     "name": "stdout",
     "output_type": "stream",
     "text": [
      "(12288, 45)\n"
     ]
    }
   ],
   "source": [
    "a=np.random.randn(12288,150) \n",
    "#a.shape=(12288,150)\n",
    "b=np.random.randn(150,45) \n",
    "#b.shape=(150,45)\n",
    "c=np.dot(a,b) \n",
    "print(c.shape)"
   ]
  },
  {
   "cell_type": "code",
   "execution_count": 15,
   "id": "87a4f532-a794-49e6-9d1d-1503fc5218bb",
   "metadata": {},
   "outputs": [
    {
     "data": {
      "text/plain": [
       "array([[0.],\n",
       "       [0.],\n",
       "       [0.],\n",
       "       [0.],\n",
       "       [0.]], dtype=float32)"
      ]
     },
     "execution_count": 15,
     "metadata": {},
     "output_type": "execute_result"
    }
   ],
   "source": [
    "x=np.zeros((5,1),dtype='float32')\n",
    "x"
   ]
  },
  {
   "cell_type": "code",
   "execution_count": 2,
   "id": "d73bd6f6-3ce6-4053-bf0d-be786b981396",
   "metadata": {},
   "outputs": [],
   "source": [
    "x = np.random.rand(4, 5)\n",
    "\n",
    "y = np.sum(x, axis=1)"
   ]
  },
  {
   "cell_type": "code",
   "execution_count": 3,
   "id": "4d0b5243-31b4-4cb0-b30c-91df2f28f2e0",
   "metadata": {},
   "outputs": [
    {
     "data": {
      "text/plain": [
       "(4,)"
      ]
     },
     "execution_count": 3,
     "metadata": {},
     "output_type": "execute_result"
    }
   ],
   "source": [
    "y.shape"
   ]
  },
  {
   "cell_type": "code",
   "execution_count": 4,
   "id": "80ec8b44-d286-489c-9b9a-6f1d12419702",
   "metadata": {},
   "outputs": [
    {
     "data": {
      "text/plain": [
       "(1, 2)"
      ]
     },
     "execution_count": 4,
     "metadata": {},
     "output_type": "execute_result"
    }
   ],
   "source": [
    "x = np.random.rand(3, 2)\n",
    "y = np.sum(x, axis=0, keepdims=True)\n",
    "y.shape"
   ]
  },
  {
   "cell_type": "code",
   "execution_count": null,
   "id": "03680339-14c6-468a-a229-1da13b25de7b",
   "metadata": {},
   "outputs": [],
   "source": []
  }
 ],
 "metadata": {
  "kernelspec": {
   "display_name": "Python 3 (ipykernel)",
   "language": "python",
   "name": "python3"
  },
  "language_info": {
   "codemirror_mode": {
    "name": "ipython",
    "version": 3
   },
   "file_extension": ".py",
   "mimetype": "text/x-python",
   "name": "python",
   "nbconvert_exporter": "python",
   "pygments_lexer": "ipython3",
   "version": "3.11.7"
  }
 },
 "nbformat": 4,
 "nbformat_minor": 5
}
