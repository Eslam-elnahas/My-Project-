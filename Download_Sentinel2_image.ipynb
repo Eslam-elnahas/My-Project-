{
  "nbformat": 4,
  "nbformat_minor": 0,
  "metadata": {
    "colab": {
      "provenance": [],
      "authorship_tag": "ABX9TyMg9qvJdic7kfMIer48sYe/",
      "include_colab_link": true
    },
    "kernelspec": {
      "name": "python3",
      "display_name": "Python 3"
    },
    "language_info": {
      "name": "python"
    }
  },
  "cells": [
    {
      "cell_type": "markdown",
      "metadata": {
        "id": "view-in-github",
        "colab_type": "text"
      },
      "source": [
        "<a href=\"https://colab.research.google.com/github/Eslam-elnahas/My-Project-/blob/main/Download_Sentinel2_image.ipynb\" target=\"_parent\"><img src=\"https://colab.research.google.com/assets/colab-badge.svg\" alt=\"Open In Colab\"/></a>"
      ]
    },
    {
      "cell_type": "code",
      "execution_count": null,
      "metadata": {
        "colab": {
          "base_uri": "https://localhost:8080/"
        },
        "id": "QvQG8VDiaABO",
        "outputId": "75c21662-e9c7-4824-bdf1-51756c36b16b"
      },
      "outputs": [
        {
          "output_type": "stream",
          "name": "stdout",
          "text": [
            "Mounted at /content/drive\n"
          ]
        }
      ],
      "source": [
        "from google.colab import drive\n",
        "drive.mount('/content/drive')"
      ]
    },
    {
      "cell_type": "code",
      "source": [
        "import ee\n",
        "\n",
        "# مصادقة الحساب\n",
        "ee.Authenticate()\n",
        "# المصادقة وتفعيل حساب Google Earth Engine\n",
        "ee.Initialize(project='ee-eslamelnahas1010')\n",
        "# تحديد منطقة الاهتمام (AOI)\n",
        "aoi = ee.Geometry.Rectangle([34.7, 31.5, 35.2, 32.0])\n",
        "\n",
        "# تحديد مجموعة البيانات الخاصة بـ Sentinel-2\n",
        "dataset = (ee.ImageCollection('COPERNICUS/S2')\n",
        "           .filterBounds(aoi)\n",
        "           .filterDate('2023-01-01', '2023-12-31')\n",
        "           .filter(ee.Filter.lt('CLOUDY_PIXEL_PERCENTAGE', 20))\n",
        "           .median())\n",
        "\n",
        "# إعدادات العرض (الأحمر، الأخضر، الأزرق)\n",
        "visualization = {\n",
        "    'bands': ['B4', 'B3', 'B2'],\n",
        "    'min': 0,\n",
        "    'max': 3000\n",
        "}\n",
        "\n",
        "# تصدير الصورة كملف GeoTIFF إلى Google Drive\n",
        "#The region parameter should be a Geometry. Remove .getInfo()\n",
        "task = ee.batch.Export.image.toDrive(\n",
        "    image=dataset,\n",
        "    description='Sentinel2_image',\n",
        "    scale=10,\n",
        "    region=aoi,\n",
        "    fileFormat='GeoTIFF'\n",
        ")\n",
        "\n",
        "# بدء مهمة التصدير\n",
        "task.start()\n",
        "print(\"Exporting image to Google Drive.\")"
      ],
      "metadata": {
        "colab": {
          "base_uri": "https://localhost:8080/"
        },
        "id": "sIPT2x2qbBGe",
        "outputId": "771a7b7d-66eb-4bf3-d593-3a89152ee436"
      },
      "execution_count": null,
      "outputs": [
        {
          "output_type": "stream",
          "name": "stdout",
          "text": [
            "Exporting image to Google Drive.\n"
          ]
        }
      ]
    },
    {
      "cell_type": "code",
      "source": [],
      "metadata": {
        "id": "O3XPUlFEb8qF"
      },
      "execution_count": null,
      "outputs": []
    }
  ]
}